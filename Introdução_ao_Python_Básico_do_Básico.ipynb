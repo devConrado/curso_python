{
  "nbformat": 4,
  "nbformat_minor": 0,
  "metadata": {
    "colab": {
      "name": "Introdução ao Python - Básico do Básico.ipynb",
      "provenance": [],
      "authorship_tag": "ABX9TyNC3ymL0NLi0cUSPfkagPDQ",
      "include_colab_link": true
    },
    "kernelspec": {
      "name": "python3",
      "display_name": "Python 3"
    }
  },
  "cells": [
    {
      "cell_type": "markdown",
      "metadata": {
        "id": "view-in-github",
        "colab_type": "text"
      },
      "source": [
        "<a href=\"https://colab.research.google.com/github/devConrado/curso_python/blob/master/Introdu%C3%A7%C3%A3o_ao_Python_B%C3%A1sico_do_B%C3%A1sico.ipynb\" target=\"_parent\"><img src=\"https://colab.research.google.com/assets/colab-badge.svg\" alt=\"Open In Colab\"/></a>"
      ]
    },
    {
      "cell_type": "markdown",
      "metadata": {
        "id": "7d7hGvSU3SVU",
        "colab_type": "text"
      },
      "source": [
        "## **Variáveis**\n",
        "\n",
        "```\n",
        "'a = 1' -ou- 'A = 1' --> atribuição de variavel corretamente\n",
        "\n",
        "**Maneiras erradas de atribuição de variavel:\n",
        "  _a = 1\n",
        "  1a = 1\n",
        "\n",
        "# Comentários - adiconar um comentário\n",
        "\n",
        "O Python é case sensitive isso significa que faz destinção de maiusculas e minusculas:\n",
        "\n",
        "A == a\n",
        "```\n",
        "\n",
        "\n"
      ]
    },
    {
      "cell_type": "code",
      "metadata": {
        "id": "E3nZ0t0t3wsw",
        "colab_type": "code",
        "colab": {}
      },
      "source": [
        "Exercitar aqui"
      ],
      "execution_count": 0,
      "outputs": []
    },
    {
      "cell_type": "markdown",
      "metadata": {
        "id": "jwWiaGAi4AHk",
        "colab_type": "text"
      },
      "source": [
        "## **Operação**\n",
        "\n",
        "```\n",
        "- = subtração\n",
        "+ = adição\n",
        "* = multiplicação\n",
        "/ = divisão\n",
        "** = exponencial\n",
        "% = módulo\n",
        "```"
      ]
    },
    {
      "cell_type": "code",
      "metadata": {
        "id": "ypt75KZS7OnX",
        "colab_type": "code",
        "colab": {}
      },
      "source": [
        "Exercite aqui"
      ],
      "execution_count": 0,
      "outputs": []
    },
    {
      "cell_type": "markdown",
      "metadata": {
        "id": "ScEFBrMV7XR4",
        "colab_type": "text"
      },
      "source": [
        "## **Comparadores e Atribuição**\n",
        "\n",
        "\n",
        "```\n",
        "a = b  - elemento 'a' recebe o valor 'b'\n",
        "a == b - elemento 'a' é estritamente igual a 'b'\n",
        "a != b - elemento 'a' é diferente de 'b'\n",
        "a > b  - elemento 'a' é maior que 'b'\n",
        "a >= b - elemento 'a' é maior ou igual a 'b'\n",
        "a < b  - elemento 'a' é menor que 'b'\n",
        "a <= b - elemento 'a' é menor ou igual a 'b'\n",
        "\n",
        "**Ainda temos os testadores 'in' e 'is'\n",
        "```"
      ]
    },
    {
      "cell_type": "code",
      "metadata": {
        "id": "JFXSAhdB7YY9",
        "colab_type": "code",
        "colab": {}
      },
      "source": [
        "Exercite aqui"
      ],
      "execution_count": 0,
      "outputs": []
    },
    {
      "cell_type": "markdown",
      "metadata": {
        "id": "gBBM6qJB6YsJ",
        "colab_type": "text"
      },
      "source": [
        "## **Tipos do Python**\n",
        "\n",
        "```\n",
        "string = 'Confrades'\n",
        "int = 23\n",
        "float = 20000.00\n",
        "bool = True\n",
        "\n",
        "**Podemos utilizar o metodo type() do python para verificar o tipo da variável\n",
        "```"
      ]
    },
    {
      "cell_type": "code",
      "metadata": {
        "id": "ZL3V9uOB7e0K",
        "colab_type": "code",
        "colab": {}
      },
      "source": [
        "Exercite aqui"
      ],
      "execution_count": 0,
      "outputs": []
    },
    {
      "cell_type": "markdown",
      "metadata": {
        "id": "ewchfUjiAnyf",
        "colab_type": "text"
      },
      "source": [
        "## **Impressão de valores**\n",
        "\n",
        "Por padrão utilizamos no novo python a função\n",
        "\n",
        "\n",
        "```\n",
        "print('Insira aqui o seu dado')\n",
        "```\n",
        "\n"
      ]
    },
    {
      "cell_type": "markdown",
      "metadata": {
        "id": "DgCNoSiT_yCC",
        "colab_type": "text"
      },
      "source": [
        "## **Tipos de Dados**\n",
        "\n"
      ]
    }
  ]
}